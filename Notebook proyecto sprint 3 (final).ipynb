{
 "cells": [
  {
   "cell_type": "markdown",
   "id": "3Xg_RQfnafXz",
   "metadata": {
    "id": "3Xg_RQfnafXz"
   },
   "source": [
    "# ¡Llena ese carrito!"
   ]
  },
  {
   "cell_type": "markdown",
   "id": "6faa92f1",
   "metadata": {},
   "source": [
    "<div class=\"alert alert-block alert-success\">\n",
    "<b>Review General. (Iteración 2) </b> <a class=\"tocSkip\"></a>\n",
    "\n",
    "Felicitaciones Abrahan, has implementado los cambios que te he indicado, bien hecho! Hemos alcanzado los objetivos del proyecto por lo que está en condiciones de ser aprobado!\n",
    "\n",
    "Felicitaciones y éxitos en tu camino dentro del mundo de los datos!\n",
    "\n",
    "Saludos!"
   ]
  },
  {
   "cell_type": "markdown",
   "id": "1f623fb4",
   "metadata": {},
   "source": [
    "<div class=\"alert alert-block alert-success\">\n",
    "<b>Review General. (Iteración 1) </b> <a class=\"tocSkip\"></a>\n",
    "\n",
    "Abrahan, quería tomarme este tiempo al inicio de tu proyecto para comentarte mis apreciaciones generales de esta iteración de tu entrega.\n",
    "\n",
    "Siempre me gusta comenzar dando la bienvenida al mundo de los datos a los estudiantes, te deseo lo mejor y espero que consigas lograr tus objetivos. Personalmente me gusta brindar el siguiente consejo, \"Está bien equivocarse, es normal y es lo mejor que te puede pasar. Aprendemos de los errores y eso te hará mejor programador ya que podrás descubrir cosas a medida que avances y son estas cosas las que te darán esa experiencia para ser un gran cientifico de datos.\"\n",
    "    \n",
    "Ahora si yendo a esta notebook. Abrahan quiero felicitarte por todo tu trabajo, has realizado todas las resoluciones de la mejor forma posible . Te destacaste en todos los sentidos, sobre todo en tu claridad, en tu capacidad de escribir código sencillo de seguir y en tus conclusiones. Felicitaciones porque tu trabajo tiene todas las condiciones para ser aprobado en base a lo técnico, solo nos quedan algunos detalles relacionados con algunos errores o mejoras, te he dejado los comentarios necesarios con el contexto para que lo corrijas.\n",
    "    \n",
    "Espero con ansisas a nuestra próxima iteración para poder avanzar y aprobar este proyecto.\n",
    "    \n",
    "Éxitos y saludos Abrahan."
   ]
  },
  {
   "cell_type": "markdown",
   "id": "mhIvmmkW414q",
   "metadata": {
    "id": "mhIvmmkW414q"
   },
   "source": [
    "# Introducción\n",
    "\n",
    "Instacart es una plataforma de entregas de comestibles donde la clientela puede registrar un pedido y hacer que se lo entreguen, similar a Uber Eats y Door Dash.\n",
    "El conjunto de datos que te hemos proporcionado tiene modificaciones del original. Redujimos el tamaño del conjunto para que tus cálculos se hicieran más rápido e introdujimos valores ausentes y duplicados. Tuvimos cuidado de conservar las distribuciones de los datos originales cuando hicimos los cambios.\n",
    "\n",
    "Debes completar tres pasos. Para cada uno de ellos, escribe una breve introducción que refleje con claridad cómo pretendes resolver cada paso, y escribe párrafos explicatorios que justifiquen tus decisiones al tiempo que avanzas en tu solución.  También escribe una conclusión que resuma tus hallazgos y elecciones.\n"
   ]
  },
  {
   "cell_type": "markdown",
   "id": "3MbyzpOQZ5Or",
   "metadata": {
    "id": "3MbyzpOQZ5Or"
   },
   "source": [
    "## Diccionario de datos\n",
    "\n",
    "Hay cinco tablas en el conjunto de datos, y tendrás que usarlas todas para hacer el preprocesamiento de datos y el análisis exploratorio de datos. A continuación se muestra un diccionario de datos que enumera las columnas de cada tabla y describe los datos que contienen.\n",
    "\n",
    "- `instacart_orders.csv`: cada fila corresponde a un pedido en la aplicación Instacart.\n",
    "    - `'order_id'`: número de ID que identifica de manera única cada pedido.\n",
    "    - `'user_id'`: número de ID que identifica de manera única la cuenta de cada cliente.\n",
    "    - `'order_number'`: el número de veces que este cliente ha hecho un pedido.\n",
    "    - `'order_dow'`: día de la semana en que se hizo el pedido (0 si es domingo).\n",
    "    - `'order_hour_of_day'`: hora del día en que se hizo el pedido.\n",
    "    - `'days_since_prior_order'`: número de días transcurridos desde que este cliente hizo su pedido anterior.\n",
    "- `products.csv`: cada fila corresponde a un producto único que pueden comprar los clientes.\n",
    "    - `'product_id'`: número ID que identifica de manera única cada producto.\n",
    "    - `'product_name'`: nombre del producto.\n",
    "    - `'aisle_id'`: número ID que identifica de manera única cada categoría de pasillo de víveres.\n",
    "    - `'department_id'`: número ID que identifica de manera única cada departamento de víveres.\n",
    "- `order_products.csv`: cada fila corresponde a un artículo pedido en un pedido.\n",
    "    - `'order_id'`: número de ID que identifica de manera única cada pedido.\n",
    "    - `'product_id'`: número ID que identifica de manera única cada producto.\n",
    "    - `'add_to_cart_order'`: el orden secuencial en el que se añadió cada artículo en el carrito.\n",
    "    - `'reordered'`: 0 si el cliente nunca ha pedido este producto antes, 1 si lo ha pedido.\n",
    "- `aisles.csv`\n",
    "    - `'aisle_id'`: número ID que identifica de manera única cada categoría de pasillo de víveres.\n",
    "    - `'aisle'`: nombre del pasillo.\n",
    "- `departments.csv`\n",
    "    - `'department_id'`: número ID que identifica de manera única cada departamento de víveres.\n",
    "    - `'department'`: nombre del departamento."
   ]
  },
  {
   "cell_type": "markdown",
   "id": "n3Ha_cNSZ8lK",
   "metadata": {
    "id": "n3Ha_cNSZ8lK"
   },
   "source": [
    "# Paso 1. Descripción de los datos\n",
    "\n",
    "Lee los archivos de datos (`/datasets/instacart_orders.csv`, `/datasets/products.csv`, `/datasets/aisles.csv`, `/datasets/departments.csv` y `/datasets/order_products.csv`) con `pd.read_csv()` usando los parámetros adecuados para leer los datos correctamente. Verifica la información para cada DataFrame creado.\n"
   ]
  },
  {
   "cell_type": "markdown",
   "id": "OmlQPLlyaAfR",
   "metadata": {
    "id": "OmlQPLlyaAfR"
   },
   "source": [
    "## Plan de solución\n",
    "\n",
    "Descripción de los datos. Para esto, primero importaré la libreria pandas para poder leer los conjuntos de datos, leeré cada uno de los archivos e importaré su información con el parametro info() así como una breve visualización de los datos con el método head(), se verificará la correcta lectura de los archivos bajo la función read_csv() haciendo uso de sus parametros."
   ]
  },
  {
   "cell_type": "code",
   "execution_count": 1,
   "id": "fbf1adab",
   "metadata": {
    "id": "fbf1adab"
   },
   "outputs": [],
   "source": [
    "import pandas as pd\n",
    "import numpy as np \n",
    "from matplotlib import pyplot as plt\n",
    "import os  # importar librerías"
   ]
  },
  {
   "cell_type": "code",
   "execution_count": 7,
   "id": "ad36396d",
   "metadata": {
    "collapsed": true,
    "id": "ad36396d"
   },
   "outputs": [],
   "source": [
    "current_route = os.getcwd()\n",
    "aisles_path = os.path.join(current_route, 'datasets', 'aisles.csv')\n",
    "ord_pro_path = os.path.join(current_route, 'datasets', 'order_products.csv')\n",
    "prod_path = os.path.join(current_route, 'datasets', 'products.csv')\n",
    "inst_ord_path = os.path.join(current_route, 'datasets', 'instacart_orders.csv')\n",
    "dep_path = os.path.join(current_route, 'datasets', 'departments.csv')\n",
    "\n",
    "aisles = pd.read_csv(aisles_path, sep=';') \n",
    "\n",
    "ord_prod = pd.read_csv(ord_pro_path, sep=';')\n",
    "\n",
    "products = pd.read_csv(prod_path, sep=';')\n",
    "\n",
    "inst_ord = pd.read_csv(inst_ord_path, sep=';')\n",
    "\n",
    "departments = pd.read_csv(dep_path, sep=';')\n",
    "\n",
    "\n",
    "# leer conjuntos de datos en los DataFrames"
   ]
  },
  {
   "cell_type": "markdown",
   "id": "a6287fec",
   "metadata": {},
   "source": [
    "<div class=\"alert alert-block alert-success\"><b>Comentario del revisor. (Iteración 1) </b> <a class=\"tocSkip\"></a>\n",
    "    \n",
    "Excelente! Buena decisión la de importar las librerías y cargar los datos por separado, a la vez exclente presentación de plan. Sigamos!"
   ]
  },
  {
   "cell_type": "code",
   "execution_count": 53,
   "id": "ad6a1efa",
   "metadata": {
    "id": "ad6a1efa"
   },
   "outputs": [],
   "source": [
    "print(aisles.head())\n",
    "print()\n",
    "aisles.info() # mostrar información del DataFrame"
   ]
  },
  {
   "cell_type": "code",
   "execution_count": 54,
   "id": "5130e05e",
   "metadata": {
    "id": "5130e05e"
   },
   "outputs": [],
   "source": [
    "print(ord_prod.head())\n",
    "print()\n",
    "ord_prod.info() # mostrar información del DataFrame"
   ]
  },
  {
   "cell_type": "code",
   "execution_count": 55,
   "id": "d8370c05",
   "metadata": {
    "id": "d8370c05"
   },
   "outputs": [],
   "source": [
    "print(products.head())\n",
    "print()\n",
    "products.info() # mostrar información del DataFrame"
   ]
  },
  {
   "cell_type": "code",
   "execution_count": 56,
   "id": "59e2090f",
   "metadata": {
    "id": "59e2090f"
   },
   "outputs": [],
   "source": [
    "print(inst_ord.head())\n",
    "print()\n",
    "inst_ord.info() # mostrar información del DataFrame"
   ]
  },
  {
   "cell_type": "code",
   "execution_count": 57,
   "id": "6fc81694",
   "metadata": {
    "id": "6fc81694"
   },
   "outputs": [],
   "source": [
    "print(departments.head())\n",
    "print()\n",
    "print(departments['department'].describe())\n",
    "print(sorted(departments['department'].unique()))\n",
    "print()\n",
    "departments.info()# mostrar información del DataFrame"
   ]
  },
  {
   "cell_type": "markdown",
   "id": "4d44d79e",
   "metadata": {},
   "source": [
    "<div class=\"alert alert-block alert-success\"><b>Comentario del revisor. (Iteración 1) </b> <a class=\"tocSkip\"></a>\n",
    "    \n",
    "Muy bien hecho! Excelente la visualización de los dataframes y la exploración de los datos mediante el método **.info()**. Sigamos!"
   ]
  },
  {
   "cell_type": "markdown",
   "id": "t75BD19oaR5f",
   "metadata": {
    "id": "t75BD19oaR5f"
   },
   "source": [
    "## Conclusiones\n",
    "\n",
    "Escribe aquí tus conclusiones intermedias sobre el Paso 1. Descripción de los datos.\n",
    "\n",
    "En esta lectura de datos nos podemos percatar que en dos de nuestros DF tenemos valores nulos. No parece haber tipos de datos incorrectos, probablemente en los días transcurridos para una nueva orden no sea necesario tener decimales, así que esos rubros serían los únicos a cambiar, habrá que verificar los duplicados mediante el método unique en los DF que contengan nombres de islas o productos para verificar las diferentes entradas.\n"
   ]
  },
  {
   "cell_type": "markdown",
   "id": "e5aa4033",
   "metadata": {},
   "source": [
    "<div class=\"alert alert-block alert-success\"><b>Comentario del revisor. (Iteración 1) </b> <a class=\"tocSkip\"></a>\n",
    "    \n",
    "Excelentes observaciones Abrahan! En avanzada te agradezco por el compromiso en tu comprensión de lo que vamos trabajando. Muy bien hecho!"
   ]
  },
  {
   "cell_type": "markdown",
   "id": "8RJHqxVmaVsF",
   "metadata": {
    "id": "8RJHqxVmaVsF"
   },
   "source": [
    "# Paso 2. Preprocesamiento de los datos\n",
    "\n",
    "Preprocesa los datos de la siguiente manera:\n",
    "\n",
    "- Verifica y corrige los tipos de datos (por ejemplo, asegúrate de que las columnas de ID sean números enteros).\n",
    "- Identifica y completa los valores ausentes.\n",
    "- Identifica y elimina los valores duplicados.\n",
    "\n",
    "Asegúrate de explicar qué tipos de valores ausentes y duplicados encontraste, cómo los completaste o eliminaste y por qué usaste esos métodos. ¿Por qué crees que estos valores ausentes y duplicados pueden haber estado presentes en el conjunto de datos?"
   ]
  },
  {
   "cell_type": "markdown",
   "id": "p6poABZQaZYb",
   "metadata": {
    "id": "p6poABZQaZYb"
   },
   "source": [
    "## Plan de solución\n",
    "\n",
    "Escribe aquí tu plan para el Paso 2. Preprocesamiento de los datos.\n",
    "\n",
    "Para analizar esto aplicaré el parámetro describe() a todos los DF, así como a las columnas que poseen obj/str, verificaté con duplicated() & isna() para verificar la existencia de nulos y duplicados, con la última en los valores numéricos verifcaré cual será, entre la media y la moda, la mejor opción para remplazar nulos ó si se pueden eliminar, se eliminará con dropna(), en cuanto a los duplicados simplemente se eliminarán los detectados y se buscarán los duplicados implicitos para corregir si es necesario. "
   ]
  },
  {
   "cell_type": "markdown",
   "id": "6972bd0a",
   "metadata": {},
   "source": [
    "<div class=\"alert alert-block alert-success\"><b>Comentario del revisor. (Iteración 1) </b> <a class=\"tocSkip\"></a>\n",
    "    \n",
    "Muy bien hecho! Los planes nos sirven para ordenarnos y pensar previamente todos los pasos que deberíamos hacer. Esto nos sirve para no olvidarnos de nada importante! Excelente!"
   ]
  },
  {
   "cell_type": "markdown",
   "id": "07357848-dc64-4156-9cc3-01ff4365226d",
   "metadata": {
    "id": "07357848-dc64-4156-9cc3-01ff4365226d"
   },
   "source": [
    "## Encuentra y elimina los valores duplicados (y describe cómo tomaste tus decisiones)."
   ]
  },
  {
   "cell_type": "markdown",
   "id": "f179f0a9",
   "metadata": {
    "id": "f179f0a9"
   },
   "source": [
    "### `orders` data frame"
   ]
  },
  {
   "cell_type": "code",
   "execution_count": 58,
   "id": "b99297a5-405a-463d-8535-9adc3da4ad74",
   "metadata": {
    "id": "b99297a5-405a-463d-8535-9adc3da4ad74"
   },
   "outputs": [],
   "source": [
    "print(inst_ord.duplicated().sum()) # Revisa si hay pedidos duplicados\n"
   ]
  },
  {
   "cell_type": "markdown",
   "id": "1d935984",
   "metadata": {},
   "source": [
    "<div class=\"alert alert-block alert-success\"><b>Comentario del revisor. (Iteración 1) </b> <a class=\"tocSkip\"></a>\n",
    "    \n",
    "    \n",
    "Muy bien! Buena forma para verificar la cantidad de duplicados."
   ]
  },
  {
   "cell_type": "markdown",
   "id": "PEkwUX_gvt5A",
   "metadata": {
    "id": "PEkwUX_gvt5A"
   },
   "source": [
    "¿Tienes líneas duplicadas? Si sí, ¿qué tienen en común?"
   ]
  },
  {
   "cell_type": "code",
   "execution_count": 59,
   "id": "0d44de5d",
   "metadata": {
    "id": "0d44de5d"
   },
   "outputs": [],
   "source": [
    "inst_orders_dup = inst_ord[(inst_ord['order_dow']==3) & (inst_ord['order_hour_of_day']==2)].duplicated()\n",
    "print(inst_orders_dup)\n",
    "print()\n",
    "\n",
    "print()\n",
    "inst_ord.info()\n",
    "# Basándote en tus hallazgos,\n",
    "# Verifica todos los pedidos que se hicieron el miércoles a las 2:00 a.m.\n"
   ]
  },
  {
   "cell_type": "markdown",
   "id": "6e859cdf",
   "metadata": {},
   "source": [
    "<div class=\"alert alert-block alert-success\"><b>Comentario del revisor. (Iteración 1) </b> <a class=\"tocSkip\"></a>\n",
    "    \n",
    "Excelente! Buena forma para filtrar y corroborar lo que vimos anteriormente al ver los valores duplicados sobre columnas específicas. Sigamos!"
   ]
  },
  {
   "cell_type": "markdown",
   "id": "vu2OWyoqwOx5",
   "metadata": {
    "id": "vu2OWyoqwOx5"
   },
   "source": [
    "¿Qué sugiere este resultado?\n",
    "Dentro de este rango de filtrado se encuentran todos los duplicados de este DF."
   ]
  },
  {
   "cell_type": "code",
   "execution_count": 60,
   "id": "480563c7",
   "metadata": {
    "id": "480563c7"
   },
   "outputs": [],
   "source": [
    "inst_ord = inst_ord.drop_duplicates()\n",
    "\n",
    " # Elimina los pedidos duplicados\n"
   ]
  },
  {
   "cell_type": "markdown",
   "id": "1e46e701",
   "metadata": {},
   "source": [
    "<div class=\"alert alert-block alert-success\"><b>Comentario del revisor. (Iteración 1) </b> <a class=\"tocSkip\"></a>\n",
    "    \n",
    "Nuevamente bien hecho al eliminar los duplicados! Una buena práctica luego de eliminar valores duplicados es la de aplicar el método **reset_index()**, te invito a que en casos futuros puedas implementarlo."
   ]
  },
  {
   "cell_type": "code",
   "execution_count": 61,
   "id": "0b2396a2",
   "metadata": {
    "id": "0b2396a2"
   },
   "outputs": [],
   "source": [
    "print(inst_ord.duplicated().sum()) # Vuelve a verificar si hay filas duplicadas\n"
   ]
  },
  {
   "cell_type": "code",
   "execution_count": 62,
   "id": "f6113ef1",
   "metadata": {
    "id": "f6113ef1"
   },
   "outputs": [],
   "source": [
    "print(inst_ord['order_id'].duplicated().sum()) # Vuelve a verificar únicamente si hay IDs duplicados de pedidos\n"
   ]
  },
  {
   "cell_type": "markdown",
   "id": "b2acb116",
   "metadata": {},
   "source": [
    "<div class=\"alert alert-block alert-warning\"><b>Comentario del revisor. (Iteración 1) </b> <a class=\"tocSkip\"></a>\n",
    "    \n",
    "Aquí la intención es correcta, sin embargo para verificar lo solicitado no deberíamos utilizar value_counts() sino que es más facil de implementar el aplicar un **sum()**"
   ]
  },
  {
   "cell_type": "markdown",
   "id": "5e8905ae",
   "metadata": {
    "id": "5e8905ae"
   },
   "source": [
    "Describe brevemente tus hallazgos y lo que hiciste con ellos\n",
    "\n",
    "Con esta metodología se pudo purgar el DF de elementos que solo alterarían nuestros resultados estadísitcos futuros."
   ]
  },
  {
   "cell_type": "markdown",
   "id": "45e6bc46",
   "metadata": {
    "id": "45e6bc46"
   },
   "source": [
    "### `products` data frame"
   ]
  },
  {
   "cell_type": "code",
   "execution_count": 63,
   "id": "5f526b5b-8175-46fa-a0fd-441767d50e64",
   "metadata": {
    "id": "5f526b5b-8175-46fa-a0fd-441767d50e64"
   },
   "outputs": [],
   "source": [
    "print(products.duplicated().sum())\n",
    "print() # Verifica si hay filas totalmente duplicadas\n",
    "print(products.columns)\n",
    "print()\n",
    "products.info()"
   ]
  },
  {
   "cell_type": "markdown",
   "id": "2acf348c",
   "metadata": {},
   "source": [
    "<div class=\"alert alert-block alert-warning\"><b>Comentario del revisor. (Iteración 1) </b> <a class=\"tocSkip\"></a>\n",
    "    \n",
    "Nuevamente recordemos que la forma más segura de poder verificar esto es al **duplicated()** implementar el **sum()**,  de esa forma nos asguramos que en caso de ser 0 no tengamos duplicados."
   ]
  },
  {
   "cell_type": "markdown",
   "id": "c0cfbb6a",
   "metadata": {},
   "source": [
    "<div class=\"alert alert-block alert-success\"><b>Comentario del revisor. (Iteración 2) </b> <a class=\"tocSkip\"></a>\n",
    "    \n",
    "    \n",
    "Excelente implementación Abrahan, bien corregido!"
   ]
  },
  {
   "cell_type": "code",
   "execution_count": 64,
   "id": "88daa4f4",
   "metadata": {
    "id": "88daa4f4"
   },
   "outputs": [],
   "source": [
    "print(products['department_id'].duplicated().sum()) # Revisa únicamente si hay ID de departamentos duplicados\n"
   ]
  },
  {
   "cell_type": "markdown",
   "id": "ce7b0029",
   "metadata": {},
   "source": [
    "<div class=\"alert alert-block alert-warning\"><b>Comentario del revisor. (Iteración 1) </b> <a class=\"tocSkip\"></a>\n",
    "    \n",
    "Cuidado aquí Abrahan, nos estamos confudiendo. Recuerda que si deseamos corroborar duplicados es con **duplicated()** y si lo deseamos corroborar sobre un valor en particular podemos filtrarlo y a este filtrado aplicarle **duplicated**. En este caso nos interesa **products[\"department_id\"].duplicated().sum()**"
   ]
  },
  {
   "cell_type": "markdown",
   "id": "30c9d6cd",
   "metadata": {},
   "source": [
    "<div class=\"alert alert-block alert-success\"><b>Comentario del revisor. (Iteración 2) </b> <a class=\"tocSkip\"></a>\n",
    "    \n",
    "    \n",
    "Nuevamente bien hecho!"
   ]
  },
  {
   "cell_type": "code",
   "execution_count": 65,
   "id": "c773f0bf",
   "metadata": {
    "id": "c773f0bf"
   },
   "outputs": [],
   "source": [
    "products_upper = products['product_name'].str.upper()\n",
    "print(products_upper.duplicated().sum()) \n",
    "# Revisa únicamente si hay nombres duplicados de productos (convierte los nombres a letras mayúsculas para compararlos mejor)\n"
   ]
  },
  {
   "cell_type": "markdown",
   "id": "bcf21d86",
   "metadata": {},
   "source": [
    "<div class=\"alert alert-block alert-warning\"><b>Comentario del revisor. (Iteración 1) </b> <a class=\"tocSkip\"></a>\n",
    "    \n",
    "Para este caso es más sencillo de interpretar, aunque hayamos aplicado **value_counts()** podemos ver 1361 True que serían 1 (unos), receurda que lo más acertado es aplicar **sum()**, que nos sumará todos los 0 y 1 dandonos únicamente el resultado que nos interesa. En este caso 1361."
   ]
  },
  {
   "cell_type": "code",
   "execution_count": 66,
   "id": "01efd02e",
   "metadata": {
    "id": "01efd02e"
   },
   "outputs": [],
   "source": [
    "print(products_upper.dropna().duplicated().value_counts())# Revisa si hay nombres duplicados de productos no faltantes\n",
    "print(products_upper.dropna().nunique())\n",
    "products_upper.dropna().info()"
   ]
  },
  {
   "cell_type": "markdown",
   "id": "92e28b1f",
   "metadata": {},
   "source": [
    "<div class=\"alert alert-block alert-success\"><b>Comentario del revisor. (Iteración 1) </b> <a class=\"tocSkip\"></a>\n",
    "\n",
    "Nuevamente excelente, en este caso una forma de resolverlo diferente pero correcta."
   ]
  },
  {
   "cell_type": "markdown",
   "id": "9da8d293",
   "metadata": {
    "id": "9da8d293"
   },
   "source": [
    "Describe brevemente tus hallazgos y lo que hiciste con ellos.\n",
    "\n",
    "Se encontraron 104 nombres de productos duplicados, sin embargo, estos pueden encontrarse en diferentes islas o estar bajo diferentes numeros de identificación. No podemos eliminarlos ya que pueden tener una razon detrás de estas diferencias que sean significativas para la tienda."
   ]
  },
  {
   "cell_type": "markdown",
   "id": "60f30db1",
   "metadata": {
    "id": "60f30db1"
   },
   "source": [
    "### `departments` data frame"
   ]
  },
  {
   "cell_type": "code",
   "execution_count": 67,
   "id": "fb410ad4-0fbf-4b80-bb09-23fdea79afe3",
   "metadata": {
    "id": "fb410ad4-0fbf-4b80-bb09-23fdea79afe3"
   },
   "outputs": [],
   "source": [
    "print(departments.duplicated().value_counts())\n",
    "departments.info()# Revisa si hay filas totalmente duplicadas"
   ]
  },
  {
   "cell_type": "code",
   "execution_count": 68,
   "id": "332b12bb",
   "metadata": {
    "id": "332b12bb"
   },
   "outputs": [],
   "source": [
    "print(departments['department_id'].duplicated().value_counts()) # Revisa únicamente si hay IDs duplicadas de productos"
   ]
  },
  {
   "cell_type": "markdown",
   "id": "bd30d78e",
   "metadata": {
    "id": "bd30d78e"
   },
   "source": [
    "Describe brevemente tus hallazgos y lo que hiciste con ellos.\n",
    "\n",
    "En este data frame no se encontraron valores duplicados. "
   ]
  },
  {
   "cell_type": "markdown",
   "id": "4ac826dd",
   "metadata": {},
   "source": [
    "<div class=\"alert alert-block alert-success\"><b>Comentario del revisor. (Iteración 1) </b> <a class=\"tocSkip\"></a>\n",
    "    \n",
    "Muy bien, excelente! Nuevamente buena forma para verificar la cantidad de duplicados. En este caso no tenemos por lo que podemos seguir adelante."
   ]
  },
  {
   "cell_type": "markdown",
   "id": "889349c1",
   "metadata": {
    "id": "889349c1"
   },
   "source": [
    "### `aisles` data frame"
   ]
  },
  {
   "cell_type": "code",
   "execution_count": 69,
   "id": "9da89fb9-4679-40f5-ad0d-c34df753a3f8",
   "metadata": {
    "id": "9da89fb9-4679-40f5-ad0d-c34df753a3f8"
   },
   "outputs": [],
   "source": [
    "print(aisles.duplicated().value_counts()) # Revisa si hay filas totalmente duplicadas"
   ]
  },
  {
   "cell_type": "code",
   "execution_count": 70,
   "id": "da7c2822",
   "metadata": {
    "id": "da7c2822"
   },
   "outputs": [],
   "source": [
    "print(aisles['aisle_id'].duplicated().value_counts()) # Revisa únicamente si hay IDs duplicadas de productos"
   ]
  },
  {
   "cell_type": "markdown",
   "id": "ac63826f",
   "metadata": {
    "id": "ac63826f"
   },
   "source": [
    "Describe brevemente tus hallazgos y lo que hiciste con ellos.\n",
    "\n",
    "Al igual que en el DF departments, no se encontraron valores duplicados."
   ]
  },
  {
   "cell_type": "markdown",
   "id": "a6e993dd",
   "metadata": {},
   "source": [
    "<div class=\"alert alert-block alert-success\"><b>Comentario del revisor. (Iteración 1) </b> <a class=\"tocSkip\"></a>\n",
    "    \n",
    "Misma situación, bien hecho!"
   ]
  },
  {
   "cell_type": "markdown",
   "id": "274cd06a",
   "metadata": {
    "id": "274cd06a"
   },
   "source": [
    "### `order_products` data frame"
   ]
  },
  {
   "cell_type": "code",
   "execution_count": 71,
   "id": "52326689-84a8-4b8f-a881-7c68780f62c9",
   "metadata": {
    "id": "52326689-84a8-4b8f-a881-7c68780f62c9"
   },
   "outputs": [],
   "source": [
    "print(ord_prod.duplicated().value_counts())# Revisa si hay filas totalmente duplicadas\n",
    "print()\n",
    "ord_prod.info()"
   ]
  },
  {
   "cell_type": "code",
   "execution_count": 72,
   "id": "7b861391",
   "metadata": {
    "id": "7b861391"
   },
   "outputs": [],
   "source": [
    "print(ord_prod['order_id'].duplicated().sum())\n",
    " # Vuelve a verificar si hay cualquier otro duplicado engañoso\n"
   ]
  },
  {
   "cell_type": "markdown",
   "id": "6254f1a1",
   "metadata": {},
   "source": [
    "<div class=\"alert alert-block alert-warning\"><b>Comentario del revisor. (Iteración 1) </b> <a class=\"tocSkip\"></a>\n",
    "    \n",
    "Cuidado aquí Abrahan, para verificar algún duplicado engañoso debemos verificar duplcados a partir de columnas en particular. Nostors aquí unicamente estamos viendo los valores únicos de **reordered**, recuerda que los valores únicos no se relacionan con los duplicados sino con mostrarnos los valores posibles que existen en dicha columna por úica vez. En este caso lo más certero sería revisar por ejemplo si hay ordenes duplicadas. Trata de corroborar duplicados por **order_id**."
   ]
  },
  {
   "cell_type": "markdown",
   "id": "c2a461bb",
   "metadata": {},
   "source": [
    "<div class=\"alert alert-block alert-success\"><b>Comentario del revisor. (Iteración 2) </b> <a class=\"tocSkip\"></a>\n",
    "    \n",
    "    \n",
    "Otra buena corrección, sigamos!"
   ]
  },
  {
   "cell_type": "markdown",
   "id": "0b890492",
   "metadata": {
    "id": "0b890492"
   },
   "source": [
    "Describe brevemente tus hallazgos y lo que hiciste con ellos.\n",
    "\n",
    "En este data frame encontraremos muchas compras que indican que con anterioridad el producto se ha comprado, es natural, no compramos cosas una sola vez en la vida, los datos no se elminarán ya que saber que un producto es comprado en más de una ocasión nos da mucha información. "
   ]
  },
  {
   "cell_type": "markdown",
   "id": "1e46de76",
   "metadata": {
    "id": "1e46de76"
   },
   "source": [
    "## Encuentra y elimina los valores ausentes\n",
    "\n",
    "Al trabajar con valores duplicados, pudimos observar que también nos falta investigar valores ausentes:\n",
    "\n",
    "* La columna `'product_name'` de la tabla products.\n",
    "* La columna `'days_since_prior_order'` de la tabla orders.\n",
    "* La columna `'add_to_cart_order'` de la tabla order_productos."
   ]
  },
  {
   "cell_type": "markdown",
   "id": "c0aebd78",
   "metadata": {
    "id": "c0aebd78"
   },
   "source": [
    "### `products` data frame"
   ]
  },
  {
   "cell_type": "code",
   "execution_count": 73,
   "id": "fe4a8b0f",
   "metadata": {
    "id": "fe4a8b0f"
   },
   "outputs": [],
   "source": [
    "products_nulls = products[products['product_name'].isna()]\n",
    "print(products_nulls)\n",
    "print(products['product_name'])\n",
    " # Encuentra los valores ausentes en la columna 'product_name' "
   ]
  },
  {
   "cell_type": "markdown",
   "id": "82dbdabf",
   "metadata": {},
   "source": [
    "<div class=\"alert alert-block alert-success\"><b>Comentario del revisor. (Iteración 1) </b> <a class=\"tocSkip\"></a>\n",
    "    \n",
    "Muy bien identificados los valores nulos sobre **products_name**. Felicitaciones, sigue así que lo estás haciendo perfecto!\n",
    "    "
   ]
  },
  {
   "cell_type": "markdown",
   "id": "-A6x1AbJhjkp",
   "metadata": {
    "id": "-A6x1AbJhjkp"
   },
   "source": [
    "Describe brevemente cuáles son tus hallazgos.\n",
    "\n",
    "Los productos sin nombre registrado parece ser que se encuentran en una misma isla y departamento."
   ]
  },
  {
   "cell_type": "code",
   "execution_count": 74,
   "id": "e96167bc",
   "metadata": {
    "id": "e96167bc"
   },
   "outputs": [],
   "source": [
    "print((products_nulls['aisle_id'].unique()))#  ¿Todos los nombres de productos ausentes están relacionados con el pasillo con ID 100?\n"
   ]
  },
  {
   "cell_type": "markdown",
   "id": "WRpIfXRphpSL",
   "metadata": {
    "id": "WRpIfXRphpSL"
   },
   "source": [
    "Describe brevemente cuáles son tus hallazgos.\n",
    "\n",
    "Sí, parece ser que todos se encuentran en la misma isla."
   ]
  },
  {
   "cell_type": "code",
   "execution_count": 75,
   "id": "8fd0a541",
   "metadata": {
    "id": "8fd0a541"
   },
   "outputs": [],
   "source": [
    "print((products_nulls['department_id'].unique()))\n",
    "# ¿Todos los nombres de productos ausentes están relacionados con el departamento con ID 21?\n"
   ]
  },
  {
   "cell_type": "markdown",
   "id": "qDpdYn1Fht_I",
   "metadata": {
    "id": "qDpdYn1Fht_I"
   },
   "source": [
    "Describe brevemente cuáles son tus hallazgos.\n",
    "\n",
    "Sí, parece ser que todos se encuentran en el mismo departamento."
   ]
  },
  {
   "cell_type": "code",
   "execution_count": 76,
   "id": "325c3464",
   "metadata": {
    "id": "325c3464"
   },
   "outputs": [],
   "source": [
    "print(aisles[aisles['aisle_id']==100])\n",
    "print(departments[departments['department_id']==21])\n",
    " # Usa las tablas department y aisle para revisar los datos del pasillo con ID 100 y el departamento con ID 21.\n"
   ]
  },
  {
   "cell_type": "markdown",
   "id": "d25f72f5",
   "metadata": {},
   "source": [
    "<div class=\"alert alert-block alert-success\"><b>Comentario del revisor. (Iteración 1) </b> <a class=\"tocSkip\"></a>\n",
    "    \n",
    "Bien hecho Abrahan! Corroboraste un dato importante, ahora podemos asegurar que el valor 100 para \"aisle_id\" es un valor a tener en cuenta e investigar junto a deparment_id y su valor 21."
   ]
  },
  {
   "cell_type": "markdown",
   "id": "nqhSTUPhhvEJ",
   "metadata": {
    "id": "nqhSTUPhhvEJ"
   },
   "source": [
    "Describe brevemente cuáles son tus hallazgos.\n",
    "\n",
    "Tanto aisle #100 como department #21 tienen como nombre 'missing'"
   ]
  },
  {
   "cell_type": "markdown",
   "id": "fc70e5ad",
   "metadata": {
    "id": "fc70e5ad"
   },
   "source": [
    "Describe brevemente tus hallazgos y lo que hiciste con ellos.\n",
    "\n",
    "Si bien hay valores nulos en este DF, no podemos eliminarlos, ya que pueden ser productos que aun no se categorizan, o próximos lanzamientos. \n",
    "En su lugar los pondemos como 'Unknown' para evitar tener valores nulos en los próximos anáilisis. "
   ]
  },
  {
   "cell_type": "code",
   "execution_count": 77,
   "id": "938d4e1f",
   "metadata": {
    "id": "6b295120"
   },
   "outputs": [],
   "source": [
    "products['product_name'].fillna('Unknown', inplace=True)\n",
    "print(products['product_name'].unique())\n",
    " # Completa los nombres de productos ausentes con 'Unknown'\n"
   ]
  },
  {
   "cell_type": "markdown",
   "id": "d686be4f",
   "metadata": {},
   "source": [
    "<div class=\"alert alert-block alert-success\"><b>Comentario del revisor. (Iteración 1) </b> <a class=\"tocSkip\"></a>\n",
    "    \n",
    "Bien resuelto! En este caso es importante no eliminar estas filas ya que a pesar de tener un valor faltante, aún tenemos información de utilidad en otras columnas, por esta razón es acertado reemplazar dicho valor con \"Unknown\". Felicitaciones!"
   ]
  },
  {
   "cell_type": "markdown",
   "id": "7eb45c86",
   "metadata": {
    "id": "7eb45c86"
   },
   "source": [
    "### `orders` data frame"
   ]
  },
  {
   "cell_type": "code",
   "execution_count": 78,
   "id": "93e41d96",
   "metadata": {
    "id": "93e41d96"
   },
   "outputs": [],
   "source": [
    "print(inst_ord.isna().value_counts())# Encuentra los valores ausentes"
   ]
  },
  {
   "cell_type": "code",
   "execution_count": 79,
   "id": "166e5a86",
   "metadata": {
    "id": "166e5a86"
   },
   "outputs": [],
   "source": [
    "inst_ord_nulls = inst_ord[inst_ord['days_since_prior_order'].isna()]\n",
    "print(inst_ord_nulls)\n",
    "print(inst_ord_nulls['order_number'].unique()) # ¿Hay algún valor ausente que no sea el primer pedido del cliente?\n"
   ]
  },
  {
   "cell_type": "markdown",
   "id": "4e23d089",
   "metadata": {
    "id": "4e23d089"
   },
   "source": [
    "Describe brevemente tus hallazgos y lo que hiciste con ellos.\n",
    "\n",
    "Sí, todos aquellas ordenes con valores nulos en la columna 'days_since_prior_order' son primeras compras de clientes."
   ]
  },
  {
   "cell_type": "markdown",
   "id": "950082ce",
   "metadata": {},
   "source": [
    "<div class=\"alert alert-block alert-success\"><b>Comentario del revisor. (Iteración 1) </b> <a class=\"tocSkip\"></a>\n",
    "    \n",
    "Excelente descubrimiento Abrahan, a esto deberíamos llegar por lo que muy bien hecho!"
   ]
  },
  {
   "cell_type": "markdown",
   "id": "69dc9ca4",
   "metadata": {
    "id": "69dc9ca4"
   },
   "source": [
    "### `order_products` data frame"
   ]
  },
  {
   "cell_type": "code",
   "execution_count": null,
   "id": "b8240253",
   "metadata": {
    "id": "b8240253"
   },
   "outputs": [],
   "source": [
    "print(ord_prod.isnull().value_counts())\n",
    " # Encuentra los valores ausentes"
   ]
  },
  {
   "cell_type": "code",
   "execution_count": null,
   "id": "9a78e5ee",
   "metadata": {
    "id": "9a78e5ee"
   },
   "outputs": [],
   "source": [
    "print(ord_prod['add_to_cart_order'].max())\n",
    "print(ord_prod['add_to_cart_order'].min()) # ¿Cuáles son los valores mínimos y máximos en esta columna?\n"
   ]
  },
  {
   "cell_type": "markdown",
   "id": "06fca70d",
   "metadata": {},
   "source": [
    "<div class=\"alert alert-block alert-success\">\n",
    "<b>Comentario del revisor. (Iteración 1)</b> <a class=\"tocSkip\"></a>\n",
    "\n",
    "Perfecto! Buena aplicación de los métodos y buena presentación de resultados. Sigamos!"
   ]
  },
  {
   "cell_type": "markdown",
   "id": "-Z2Ja215jW78",
   "metadata": {
    "id": "-Z2Ja215jW78"
   },
   "source": [
    "Describe brevemente cuáles son tus hallazgos.\n",
    "\n",
    "Esta columna nos permite entender que ha habido carritos con hasta 64 articulos en él! "
   ]
  },
  {
   "cell_type": "code",
   "execution_count": null,
   "id": "ab9d0c2b",
   "metadata": {
    "id": "ab9d0c2b"
   },
   "outputs": [],
   "source": [
    "id_of_cart_null = ord_prod[ord_prod['add_to_cart_order'].isnull()] # Guarda todas las IDs de pedidos que tengan un valor ausente en 'add_to_cart_order'\n",
    "print(id_of_cart_null.loc[:,'order_id'])\n"
   ]
  },
  {
   "cell_type": "code",
   "execution_count": null,
   "id": "54c31695",
   "metadata": {
    "collapsed": true,
    "id": "54c31695"
   },
   "outputs": [],
   "source": [
    "ord_prod_nulls = ord_prod[ord_prod['add_to_cart_order'].isna()]['order_id']\n",
    "print(ord_prod_nulls)\n",
    "print()\n",
    "ord_prod_id = ord_prod[ord_prod['order_id'].isin(ord_prod_nulls)].groupby('order_id').count()\n",
    "print(ord_prod_id)\n",
    "print()\n",
    "prod_id_counts_non = ord_prod[ord_prod['product_id'].isin(ord_prod_id)].min()\n",
    "print(prod_id_counts_non)\n",
    "print()\n",
    "print(prod_id_counts_non['add_to_cart_order'])\n",
    "\n",
    " # ¿Todos los pedidos con valores ausentes tienen más de 64 productos?\n",
    "# Agrupa todos los pedidos con datos ausentes por su ID de pedido.\n",
    "# Cuenta el número de 'product_id' en cada pedido y revisa el valor mínimo del conteo.\n"
   ]
  },
  {
   "cell_type": "markdown",
   "id": "p9V6pddtjglj",
   "metadata": {
    "id": "p9V6pddtjglj"
   },
   "source": [
    "Describe brevemente cuáles son tus hallazgos.\n",
    "\n",
    "En este data frame encontramos valores nulos para el numero en qeu se agrego un producto al carrito, esto podría indicar que el producto después fue eliminado del carrito."
   ]
  },
  {
   "cell_type": "markdown",
   "id": "cd4c58eb",
   "metadata": {},
   "source": [
    "<div class=\"alert alert-block alert-warning\">\n",
    "<b>Comentario del revisor. (Iteración 1)</b> <a class=\"tocSkip\"></a>\n",
    "\n",
    "Cuidado aquí Abrahan, nos hemos enredado un poco pero no es nada que no podamos resolver. En parte hemos calculado bien aquellos productos con orden nula **ord_prod_nulls**, sin embargo luego cuando calculamos **ord_prod_id** todo el proceso es correcto salvo el hecho de aplicar **value_counts()** sino que deberíamos aplicar **count()**. Trata de corregir esto y observa los resultados de la columna **add_to_cart_order()**."
   ]
  },
  {
   "cell_type": "markdown",
   "id": "867bad6c",
   "metadata": {},
   "source": [
    "<div class=\"alert alert-block alert-success\"><b>Comentario del revisor. (Iteración 2) </b> <a class=\"tocSkip\"></a>\n",
    "    \n",
    "    \n",
    "Muy bien Abrahan! Excelente corrección!"
   ]
  },
  {
   "cell_type": "code",
   "execution_count": null,
   "id": "7a987d08",
   "metadata": {
    "id": "7a987d08"
   },
   "outputs": [],
   "source": [
    "ord_prod['add_to_cart_order'] = pd.to_numeric(ord_prod['add_to_cart_order'].fillna(999)) # Remplaza los valores ausentes en la columna 'add_to_cart? con 999 y convierte la columna al tipo entero."
   ]
  },
  {
   "cell_type": "markdown",
   "id": "aed61536",
   "metadata": {},
   "source": [
    "<div class=\"alert alert-block alert-success\">\n",
    "<b>Comentario del revisor. (Iteración 1)</b> <a class=\"tocSkip\"></a>\n",
    "\n",
    "Buena resolución para completar estos valores! Sencilla y directa, felicitaciones!."
   ]
  },
  {
   "cell_type": "markdown",
   "id": "fea4bcc7",
   "metadata": {
    "id": "fea4bcc7"
   },
   "source": [
    "Describe brevemente tus hallazgos y lo que hiciste con ellos.\n",
    "\n",
    "Con esto se eliminan los nulos, y podemos entender que el 999 indica un error o una señal de que este nunca fue ordenado, o no estuvo presente en la orden final del carrito."
   ]
  },
  {
   "cell_type": "markdown",
   "id": "RnplPFY1gSrb",
   "metadata": {
    "id": "RnplPFY1gSrb"
   },
   "source": [
    "## Conclusiones\n",
    "\n",
    "Escribe aquí tus conclusiones intermedias sobre el Paso 2. Preprocesamiento de los datos\n",
    "Trabajar con los datos nulos puede ser mas complicado que con los datos duplicados, sin embargo, es igual de necesario. Con esto obtenemos una base de datos completa que nos permita hacer análisis que puedan ser presentados, contener valores nulos o duplicados podría afectar la realidad de la situación o información que presentemos en gráficos y esto podría confundir a la audiencia o a nosotros mismos."
   ]
  },
  {
   "cell_type": "markdown",
   "id": "b5f658b5",
   "metadata": {},
   "source": [
    "<div class=\"alert alert-block alert-success\">\n",
    "<b>Comentario del revisor. (Iteración 1)</b> <a class=\"tocSkip\"></a>\n",
    "\n",
    "Nuevamente felicitarte Abrahan, todo el proceso que realizaste es correcto y tus conclusiones nuevamente reflejan tu comprensión sobre todo el proceso. Sigamos que ahora nos falta la última sección."
   ]
  },
  {
   "cell_type": "markdown",
   "id": "UjrOIwTcz3ri",
   "metadata": {
    "id": "UjrOIwTcz3ri"
   },
   "source": [
    "# Paso 3. Análisis de los datos\n",
    "\n",
    "Una vez los datos estén procesados y listos, haz el siguiente análisis:"
   ]
  },
  {
   "cell_type": "markdown",
   "id": "turkish-kidney",
   "metadata": {
    "id": "turkish-kidney"
   },
   "source": [
    "# [A] Fácil (deben completarse todos para aprobar)\n",
    "\n",
    "1. Verifica que los valores en las columnas `'order_hour_of_day'` y `'order_dow'` en la tabla orders sean razonables (es decir, `'order_hour_of_day'` oscile entre 0 y 23 y `'order_dow'` oscile entre 0 y 6).\n",
    "2. Crea un gráfico que muestre el número de personas que hacen pedidos dependiendo de la hora del día.\n",
    "3. Crea un gráfico que muestre qué día de la semana la gente hace sus compras.\n",
    "4. Crea un gráfico que muestre el tiempo que la gente espera hasta hacer su siguiente pedido, y comenta sobre los valores mínimos y máximos."
   ]
  },
  {
   "cell_type": "markdown",
   "id": "short-capability",
   "metadata": {
    "id": "short-capability"
   },
   "source": [
    "### [A1] Verifica que los valores sean sensibles"
   ]
  },
  {
   "cell_type": "code",
   "execution_count": null,
   "id": "growing-fruit",
   "metadata": {
    "id": "growing-fruit"
   },
   "outputs": [],
   "source": [
    "print(sorted(inst_ord['order_hour_of_day'].unique()))"
   ]
  },
  {
   "cell_type": "code",
   "execution_count": null,
   "id": "accessory-malaysia",
   "metadata": {
    "id": "accessory-malaysia"
   },
   "outputs": [],
   "source": [
    "print(sorted(inst_ord['order_dow'].unique()))"
   ]
  },
  {
   "cell_type": "markdown",
   "id": "hmR2GNQ6lCsX",
   "metadata": {
    "id": "hmR2GNQ6lCsX"
   },
   "source": [
    "Escribe aquí tus conclusiones\n",
    "\n",
    "Sí, ambas son coherentes y correctas."
   ]
  },
  {
   "cell_type": "markdown",
   "id": "13b0f99e",
   "metadata": {},
   "source": [
    " <div class=\"alert alert-block alert-success\">\n",
    "<b>Comentario del revisor. (Iteración 1)</b> <a class=\"tocSkip\"></a>\n",
    "\n",
    "Una forma creativa de corroborar lo pedido, eso demuestra comprensión e inteligencia. Muy bien Abrahan! Sigamos que falta poco!"
   ]
  },
  {
   "cell_type": "markdown",
   "id": "a6743a70",
   "metadata": {
    "id": "a6743a70"
   },
   "source": [
    "### [A2] Para cada hora del día, ¿cuántas personas hacen órdenes?"
   ]
  },
  {
   "cell_type": "code",
   "execution_count": null,
   "id": "a36cca27",
   "metadata": {
    "id": "a36cca27"
   },
   "outputs": [
    {
     "data": {
      "image/png": "[encoded data removed]"
     },
     "metadata": {},
     "output_type": "display_data"
    }
   ],
   "source": [
    "users_per_hour = inst_ord.groupby('order_hour_of_day')['user_id'].agg('count').reset_index(name='count')\n",
    "\n",
    "print(users_per_hour)\n",
    "plt.bar(users_per_hour['order_hour_of_day'], users_per_hour['count'])\n",
    "plt.title('Quantity of users making orders by hour')\n",
    "plt.xlabel('Hour of the day')\n",
    "plt.ylabel('Users counts')\n",
    "\n",
    "plt.show()"
   ]
  },
  {
   "cell_type": "markdown",
   "id": "77300fac",
   "metadata": {},
   "source": [
    "<div class=\"alert alert-block alert-success\">\n",
    "<b>Comentario del revisor. (Iteración 1)</b> <a class=\"tocSkip\"></a>\n",
    "\n",
    "Excelente cálculo de frecuencia y excelente implementación e interpreteaicón de la gráfica! Bien hecho!"
   ]
  },
  {
   "cell_type": "markdown",
   "id": "11270eed",
   "metadata": {
    "id": "11270eed"
   },
   "source": [
    "Escribe aquí tus conclusiones\n",
    "\n",
    "La mayoría de los clientes tienden a hacer su compras a partir de las 10 am hasta las 4 pm, "
   ]
  },
  {
   "cell_type": "markdown",
   "id": "documented-command",
   "metadata": {
    "id": "documented-command"
   },
   "source": [
    "### [A3] ¿Qué día de la semana compran víveres las personas?"
   ]
  },
  {
   "cell_type": "code",
   "execution_count": null,
   "id": "chief-digit",
   "metadata": {
    "id": "chief-digit"
   },
   "outputs": [
    {
     "data": {
      "image/png": "[encoded data removed]"
     },
     "metadata": {},
     "output_type": "display_data"
    }
   ],
   "source": [
    "user_per_day = inst_ord.groupby('order_dow')['user_id'].agg('count').reset_index(name='count')\n",
    "print(user_per_day)\n",
    "x_ticks = ['Sunday', 'Monday', 'Thursday', 'Wednesday', 'Tuesday', 'Friday', 'Saturday']\n",
    "plt.figure(20*25)\n",
    "plt.bar(user_per_day['order_dow'], user_per_day['count'])\n",
    "plt.xlabel('Day of the week')\n",
    "plt.ylabel('Users counts')\n",
    "plt.xticks(user_per_day['order_dow'], x_ticks)\n",
    "plt.title('Client orders by day')\n",
    "plt.show()"
   ]
  },
  {
   "cell_type": "markdown",
   "id": "dominant-lightning",
   "metadata": {
    "id": "dominant-lightning"
   },
   "source": [
    "Escribe aquí tus conclusiones\n",
    "Los clientes tienden a hacer sus compas entre el Domingo y el lunes, sin embargo, la diferencia con los otros días no es tan grande."
   ]
  },
  {
   "cell_type": "markdown",
   "id": "6cfd2e34",
   "metadata": {},
   "source": [
    "<div class=\"alert alert-block alert-success\">\n",
    "<b>Comentario del revisor. (Iteración 1)</b> <a class=\"tocSkip\"></a>\n",
    "\n",
    "Perfecto! Mismo caso que lo anterior, bien resuelto y bien calculada la frecuencia!"
   ]
  },
  {
   "cell_type": "markdown",
   "id": "cutting-concert",
   "metadata": {
    "id": "cutting-concert"
   },
   "source": [
    "### [A4] ¿Cuánto tiempo esperan las personas hasta hacer otro pedido? Comenta sobre los valores mínimos y máximos."
   ]
  },
  {
   "cell_type": "code",
   "execution_count": null,
   "id": "c231f523",
   "metadata": {
    "id": "c231f523"
   },
   "outputs": [
    {
     "data": {
      "image/png": "[encoded data removed]"
     },
     "metadata": {},
     "output_type": "display_data"
    }
   ],
   "source": [
    "waiting_time = inst_ord.groupby('days_since_prior_order')['user_id'].agg('count').reset_index(name='conteo')\n",
    "plt.bar(waiting_time['days_since_prior_order'], waiting_time['conteo'])\n",
    "plt.xlabel('Users counts')\n",
    "plt.ylabel('Days since last order')\n",
    "plt.title('Days since client prior order')\n",
    "plt.show()"
   ]
  },
  {
   "cell_type": "markdown",
   "id": "discrete-vertex",
   "metadata": {
    "id": "discrete-vertex"
   },
   "source": [
    "Escribe aquí tus conclusiones\n",
    "\n",
    "En esta sección los clientes se polarizan, pues hay quienes tardan hasta 30 días en hacer una nueva compra y hay muchos otros que no tardan mas de 10 días en hacer su siguiente compra."
   ]
  },
  {
   "cell_type": "markdown",
   "id": "138681fb",
   "metadata": {},
   "source": [
    "<div class=\"alert alert-block alert-success\">\n",
    "<b>Comentario del revisor. (Iteración 1)</b> <a class=\"tocSkip\"></a>\n",
    "\n",
    "Impresionante Abrahan, nuevamente lo has resuelta tal como correspondía! Si quisieramos verlo en más detalle podríamos verlo con un gráfico de barras o aumentar la cantidad de bins."
   ]
  },
  {
   "cell_type": "markdown",
   "id": "tight-staff",
   "metadata": {
    "id": "tight-staff"
   },
   "source": [
    "# [B] Intermedio (deben completarse todos para aprobar)\n",
    "\n",
    "1. ¿Existe alguna diferencia entre las distribuciones `'order_hour_of_day'` de los miércoles y los sábados? Traza gráficos de barra de `'order_hour_of_day'` para ambos días en la misma figura y describe las diferencias que observes.\n",
    "2. Grafica la distribución para el número de órdenes que hacen los clientes (es decir, cuántos clientes hicieron solo 1 pedido, cuántos hicieron 2, cuántos 3, y así sucesivamente...).\n",
    "3. ¿Cuáles son los 20 principales productos que se piden con más frecuencia (muestra su identificación y nombre)?"
   ]
  },
  {
   "cell_type": "markdown",
   "id": "packed-classic",
   "metadata": {
    "id": "packed-classic"
   },
   "source": [
    "### [B1] Diferencia entre miércoles y sábados para  `'order_hour_of_day'`. Traza gráficos de barra para los dos días y describe las diferencias que veas."
   ]
  },
  {
   "cell_type": "code",
   "execution_count": null,
   "id": "d89b8403",
   "metadata": {
    "id": "d89b8403"
   },
   "outputs": [
    {
     "data": {
      "image/png": "[encoded data removed]"
     },
     "metadata": {},
     "output_type": "display_data"
    }
   ],
   "source": [
    "wed = inst_ord[(inst_ord['order_dow']==3) ]['order_hour_of_day']\n",
    "sat = inst_ord[(inst_ord['order_dow']==6)]['order_hour_of_day']\n",
    "\n",
    "wed.plot(kind='hist', bins= 24, title='Orders comparative between Wednesday & Saturday')\n",
    "sat.plot(kind='hist', grid=True, alpha= 0.5, bins= 24)\n",
    "plt.legend(['Wednesday', 'Saturday'])\n",
    "plt.xlabel('Hour of the day')\n",
    "plt.ylabel('Quantity of orders')\n",
    "plt.xticks(inst_ord['order_hour_of_day'].unique())\n",
    "plt.show()"
   ]
  },
  {
   "cell_type": "markdown",
   "id": "2b53deba",
   "metadata": {},
   "source": [
    "<div class=\"alert alert-block alert-success\">\n",
    "<b>Comentario del revisor. (Iteración 1)</b> <a class=\"tocSkip\"></a>\n",
    "\n",
    "Un procedimiento perfecto, en primera instancia hemos calculado las frecuencias y luego implementamos el gráfico objetivo al comparar a ámbas en el mismo gráfico. Excelente! Si quisieramos verlo de una mejor forma podríamos implementar un gráfico de barras con doble barra por cada valor para observar las diferencias."
   ]
  },
  {
   "cell_type": "markdown",
   "id": "83ab5f63",
   "metadata": {},
   "source": [
    "Las compras en miercoles y sábado son muy similares pero no iguales, en el gráfico podemos observar que los sábados tienen un incremendo en el rango de horas 11~14, mismo rango donde los miércoles tienen un decrecimiento. \n"
   ]
  },
  {
   "cell_type": "code",
   "execution_count": null,
   "id": "797c90a8",
   "metadata": {
    "id": "797c90a8"
   },
   "outputs": [],
   "source": [
    "print('Wednesday orders count:', wed.count())\n",
    "print()\n",
    "print('Saturday orders count:', sat.count())"
   ]
  },
  {
   "cell_type": "markdown",
   "id": "6a7c0fa9",
   "metadata": {},
   "source": [
    "Con estos métodos podemos percatarnos que las ordenes en sábado son mayores frente a las órdenes de los miércoles."
   ]
  },
  {
   "cell_type": "markdown",
   "id": "charitable-congo",
   "metadata": {
    "id": "charitable-congo"
   },
   "source": [
    "Escribe aquí tus conclusiones"
   ]
  },
  {
   "cell_type": "markdown",
   "id": "e3891143",
   "metadata": {
    "id": "e3891143"
   },
   "source": [
    "### [B2] ¿Cuál es la distribución para el número de pedidos por cliente?"
   ]
  },
  {
   "cell_type": "code",
   "execution_count": null,
   "id": "d8c26c23",
   "metadata": {
    "id": "d8c26c23"
   },
   "outputs": [
    {
     "data": {
      "image/png": "[encoded data removed]"
     },
     "metadata": {},
     "output_type": "display_data"
    }
   ],
   "source": [
    "user_num_orders = inst_ord.groupby('user_id')['order_number'].agg('count').reset_index(name='quantity_of_orders')\n",
    "print(user_num_orders)\n",
    "user_num_orders.plot(kind='hist', x='user_id', ylabel='Quantity of orders', title='Quantity of orders per client', xlabel='Quantity of orders', bins=20, color='purple' )\n",
    "plt.show()"
   ]
  },
  {
   "cell_type": "markdown",
   "id": "976e4a01",
   "metadata": {},
   "source": [
    "<div class=\"alert alert-block alert-success\">\n",
    "<b>Comentario del revisor. (Iteración 1)</b> <a class=\"tocSkip\"></a>\n",
    "\n",
    "Excelente Abrahan, este gráfico responde a lo que buscabamos. Aunque podríamos aumentar la cantidad de bins para ver en mayor detalle esta distribución o en su defecta verlo con gráficos de barras.\n",
    "   "
   ]
  },
  {
   "cell_type": "markdown",
   "id": "d2eff7d5",
   "metadata": {
    "id": "d2eff7d5"
   },
   "source": [
    "Escribe aquí tus conclusiones \n",
    "\n",
    "Con éste gráfico podemos entender que la mayoría de los clientes no ha hecho más de 5 ordenes. "
   ]
  },
  {
   "cell_type": "markdown",
   "id": "54a0319c",
   "metadata": {
    "id": "54a0319c"
   },
   "source": [
    "### [B3] ¿Cuáles son los 20 productos más populares (muestra su ID y nombre)?"
   ]
  },
  {
   "cell_type": "code",
   "execution_count": null,
   "id": "exterior-arizona",
   "metadata": {
    "id": "exterior-arizona",
    "scrolled": true
   },
   "outputs": [],
   "source": [
    "popular_prod = ord_prod.groupby('product_id').agg('count').sort_values('reordered', ascending=False).reset_index()\n",
    "popular_prod = popular_prod.loc[:,['product_id', 'reordered']]\n",
    "popular_prod.columns = ['product_id', 'times_ordered']\n",
    "print(popular_prod)\n"
   ]
  },
  {
   "cell_type": "code",
   "execution_count": 95,
   "id": "universal-facial",
   "metadata": {
    "id": "universal-facial"
   },
   "outputs": [],
   "source": [
    "product_names = products.loc[:,['product_id','product_name']]\n",
    "print(product_names)"
   ]
  },
  {
   "cell_type": "code",
   "execution_count": null,
   "id": "bbcdd20b",
   "metadata": {
    "id": "bbcdd20b"
   },
   "outputs": [],
   "source": [
    "top_products = popular_prod.merge(product_names,on='product_id', how='outer').sort_values(by='times_ordered', ascending=False).reset_index().drop(columns=['index'])\n",
    "print(top_products.head(20))"
   ]
  },
  {
   "cell_type": "markdown",
   "id": "302d48c4",
   "metadata": {},
   "source": [
    "<div class=\"alert alert-block alert-success\">\n",
    "<b>Comentario del revisor. (Iteración 1)</b> <a class=\"tocSkip\"></a>\n",
    "\n",
    "Un cálculo excelente Abrahan, nuevamente felicitaciones, lo estás haciendo muy bien!"
   ]
  },
  {
   "cell_type": "markdown",
   "id": "7df00f47",
   "metadata": {
    "id": "7df00f47"
   },
   "source": [
    "Escribe aquí tus conclusiones\n",
    "\n",
    "¡Los 20 artículos más populares son productos orgánicos!"
   ]
  },
  {
   "cell_type": "markdown",
   "id": "gross-theme",
   "metadata": {
    "id": "gross-theme"
   },
   "source": [
    "# [C] Difícil (deben completarse todos para aprobar)\n",
    "\n",
    "1. ¿Cuántos artículos suelen comprar las personas en un pedido? ¿Cómo es la distribución?\n",
    "2. ¿Cuáles son los 20 principales artículos que vuelven a pedirse con mayor frecuencia (muestra sus nombres e IDs de los productos)?\n",
    "3. Para cada producto, ¿cuál es la tasa de repetición del pedido (número de repeticiones de pedido/total de pedidos?\n",
    "4. Para cada cliente, ¿qué proporción de los productos que pidió ya los había pedido? Calcula la tasa de repetición de pedido para cada usuario en lugar de para cada producto.\n",
    "5. ¿Cuáles son los 20 principales artículos que la gente pone primero en sus carritos (muestra las IDs de los productos, sus nombres, y el número de veces en que fueron el primer artículo en añadirse al carrito)?"
   ]
  },
  {
   "cell_type": "markdown",
   "id": "romantic-deposit",
   "metadata": {
    "id": "romantic-deposit"
   },
   "source": [
    "### [C1] ¿Cuántos artículos compran normalmente las personas en un pedido? ¿Cómo es la distribución?"
   ]
  },
  {
   "cell_type": "code",
   "execution_count": null,
   "id": "virtual-punch",
   "metadata": {
    "id": "virtual-punch"
   },
   "outputs": [
    {
     "data": {
      "image/png": "[encoded data removed]"
     },
     "metadata": {},
     "output_type": "display_data"
    }
   ],
   "source": [
    "qtty_of_orders = ord_prod.merge(inst_ord, on='order_id', how='right').drop(columns= ['product_id','reordered', 'order_dow', 'order_hour_of_day', 'days_since_prior_order'])\n",
    "qtty_of_orders.plot(kind='hist', y='add_to_cart_order', x='order_id',bins=150, xlim=[0,70], xticks= [0,10,20,30,40,50,60,70],xlabel='Quantity of Products', ylabel='Quantity of orders', title='Quantity of products ordered per orders', color='purple')\n",
    "plt.show()"
   ]
  },
  {
   "cell_type": "markdown",
   "id": "designed-mortality",
   "metadata": {
    "id": "designed-mortality"
   },
   "source": [
    "Escribe aquí tus conclusiones\n",
    "Al rededor de la mitad de las órdenes fueron hechas con menos de 10 productos en el carrito. Esto indica que las compras que se hacen en Instacart  tienden a ser compras pequeñas."
   ]
  },
  {
   "cell_type": "markdown",
   "id": "ac29dd11",
   "metadata": {},
   "source": [
    "<div class=\"alert alert-block alert-success\">\n",
    "<b>Comentario del revisor. (Iteración 1)</b> <a class=\"tocSkip\"></a>\n",
    "\n",
    "Lo has resuelto muy bien nuevamente Abrahan, impresionante. A la vez tus conclusiones son acertadas y responden a la pregunta. "
   ]
  },
  {
   "cell_type": "markdown",
   "id": "5e6b5537",
   "metadata": {
    "id": "5e6b5537"
   },
   "source": [
    "### [C2] ¿Cuáles son los 20 principales artículos que vuelven a pedirse con mayor frecuencia (muestra sus nombres e IDs de los productos)?"
   ]
  },
  {
   "cell_type": "code",
   "execution_count": null,
   "id": "9374e55a",
   "metadata": {
    "id": "9374e55a"
   },
   "outputs": [],
   "source": [
    "reord_pop_prod = ord_prod[ord_prod['reordered']==1].groupby('product_id').agg('count').sort_values('reordered', ascending=False).reset_index().loc[:,['product_id','reordered']]\n",
    "print(reord_pop_prod)"
   ]
  },
  {
   "cell_type": "code",
   "execution_count": null,
   "id": "possible-change",
   "metadata": {
    "id": "possible-change",
    "scrolled": true
   },
   "outputs": [],
   "source": [
    "reord_top = reord_pop_prod.merge(product_names,on='product_id', how='outer').sort_values('reordered', ascending=False).reset_index().drop(columns=['index'])\n",
    "print(reord_top.head(20))"
   ]
  },
  {
   "cell_type": "markdown",
   "id": "80e70c74",
   "metadata": {
    "id": "80e70c74"
   },
   "source": [
    "Escribe aquí tus conclusiones\n",
    "\n",
    "Muchos de los productos que fueron reordenados también pertenecen a la lista de los 20 más populares sin aplicar el filtro de reordenados."
   ]
  },
  {
   "cell_type": "markdown",
   "id": "1481a534",
   "metadata": {},
   "source": [
    "<div class=\"alert alert-block alert-success\">\n",
    "<b>Comentario del revisor. (Iteración 1)</b> <a class=\"tocSkip\"></a>\n",
    "\n",
    "Nuevamente el cálculo estuvo muy bien realizado Abrahan, lo has hecho excelente y has llegado a los resultados necesarios. Sigue así!"
   ]
  },
  {
   "cell_type": "markdown",
   "id": "9d312b14",
   "metadata": {
    "id": "9d312b14"
   },
   "source": [
    "### [C3] Para cada producto, ¿cuál es la proporción de las veces que se pide y que se vuelve a pedir?"
   ]
  },
  {
   "cell_type": "code",
   "execution_count": 84,
   "id": "8ae9f4b1",
   "metadata": {
    "id": "8ae9f4b1"
   },
   "outputs": [],
   "source": [
    "order_count = pd.DataFrame(ord_prod[ord_prod['add_to_cart_order']!= None]['product_id'].value_counts().reset_index(name='times_ordered'))\n",
    "print(order_count)\n",
    "print()\n",
    "reordered_count = pd.DataFrame(ord_prod[ord_prod['reordered']==1]['product_id'].value_counts().reset_index(name='times_reordered'))\n",
    "print(reordered_count)"
   ]
  },
  {
   "cell_type": "code",
   "execution_count": 83,
   "id": "94cf9959",
   "metadata": {},
   "outputs": [],
   "source": [
    "reordered_product_mean = ord_prod.groupby('product_id')['reordered'].agg('mean')\n",
    "print(reordered_product_mean)"
   ]
  },
  {
   "cell_type": "markdown",
   "id": "705ab06d",
   "metadata": {},
   "source": [
    "<div class=\"alert alert-block alert-info\">\n",
    "<b>Pues sí que era mas sencillo jajaja.</b> <a class=\"tocSkip\"></a>\n",
    "</div>"
   ]
  },
  {
   "cell_type": "code",
   "execution_count": 85,
   "id": "103e7fe1",
   "metadata": {
    "id": "103e7fe1"
   },
   "outputs": [],
   "source": [
    "proportional_products = order_count.merge(reordered_count, on= 'product_id', how='outer')\n",
    "proportional_products['proportion'] = (proportional_products['times_reordered'])/(proportional_products['times_ordered'])\n",
    "print(proportional_products)\n",
    "print(proportional_products['proportion'].isna().value_counts())\n",
    "print(proportional_products['proportion'].max())\n",
    "print(proportional_products['proportion'].min())\n",
    "\n"
   ]
  },
  {
   "cell_type": "markdown",
   "id": "dc277264",
   "metadata": {
    "id": "social-individual"
   },
   "source": [
    "<div class=\"alert alert-block alert-warning\">\n",
    "<b>Comentario del revisor. (Iteración 1)</b> <a class=\"tocSkip\"></a>\n",
    "\n",
    "Muy bien hecho Abrahan, el cálculo es correcto y la presentación de resultados es genial, felicitaciones! Inlcuso podríamos resolverlo de una forma más sencilla en una única línea:  se nos solicita **¿qué proporción de sus pedidos se vuelven a pedir?.** Es decir que sobre aquellos [product_id product_name] (producto pedido) deberíamos calcular su proporción de veces pedido, es decir reordered mean. De esta forma con una única línea de agrupación podríamos obtener los mismos calculos."
   ]
  },
  {
   "cell_type": "markdown",
   "id": "I10dEIAyldcO",
   "metadata": {
    "id": "I10dEIAyldcO"
   },
   "source": [
    "Escribe aquí tus conclusiones\n",
    "\n",
    "La gran parte de los productos han sido reordenados, solo contando con 9345 productos que no fueron reordenados. Las proporciones van desde valores muy bajos como 0.01 hasta el más alto que indica un 100% de veces reordenado."
   ]
  },
  {
   "cell_type": "markdown",
   "id": "subject-boxing",
   "metadata": {
    "id": "subject-boxing"
   },
   "source": [
    "### [C4] Para cada cliente, ¿qué proporción de sus productos ya los había pedido?"
   ]
  },
  {
   "cell_type": "code",
   "execution_count": null,
   "id": "medical-couple",
   "metadata": {
    "id": "medical-couple",
    "scrolled": true
   },
   "outputs": [],
   "source": [
    "inst_ord_edited = inst_ord.loc[:,['user_id', 'order_id']]\n",
    "\n",
    "first_ord_prod = ord_prod.loc[:,'order_id':'add_to_cart_order']\n",
    "second_ord_prod = ord_prod[ord_prod['reordered']==1]\n",
    "\n",
    "f_op_m_io = first_ord_prod.merge(inst_ord_edited, on='order_id').groupby('user_id')\n",
    "s_op_m_io = second_ord_prod.merge(inst_ord_edited, on='order_id').groupby('user_id')\n",
    "\n",
    "order_products = pd.DataFrame(f_op_m_io['user_id'].value_counts().reset_index(name='count_of_products'))\n",
    "\n",
    "user_reorder = pd.DataFrame(s_op_m_io['user_id'].value_counts().reset_index(name='times_reordered'))\n",
    "print(order_products)\n",
    "print(user_reorder)\n"
   ]
  },
  {
   "cell_type": "code",
   "execution_count": null,
   "id": "8892e4b4",
   "metadata": {
    "id": "8892e4b4"
   },
   "outputs": [],
   "source": [
    "user_reord_prop = (user_reorder['times_reordered'])/(order_products[order_products['user_id'].isin(user_reorder['user_id'])]['count_of_products'])\n",
    "user_reord_prop = user_reord_prop.dropna().reset_index()\n",
    "user_reord_prop.columns= ['user_id', 'proportion']\n",
    "print(user_reord_prop)"
   ]
  },
  {
   "cell_type": "code",
   "execution_count": 88,
   "id": "0c121f65",
   "metadata": {},
   "outputs": [],
   "source": [
    "user_reord_proportion = inst_ord.merge(ord_prod, on='order_id', how='outer').groupby('user_id')['reordered'].mean()\n",
    "print(user_reord_proportion)"
   ]
  },
  {
   "cell_type": "markdown",
   "id": "BgJSvXDsleXz",
   "metadata": {
    "id": "BgJSvXDsleXz"
   },
   "source": [
    "Escribe aquí tus conclusiones\n",
    "\n",
    "Muchos usuarios han reordenado productos, algunos haciendo multiplesórdenes con los mismos objetos en sus órdenes."
   ]
  },
  {
   "cell_type": "markdown",
   "id": "776ddf78",
   "metadata": {},
   "source": [
    "<div class=\"alert alert-block alert-warning\">\n",
    "<b>Comentario del revisor. (Iteración 1)</b> <a class=\"tocSkip\"></a>\n",
    "\n",
    "Nuevamente el cálculo es excelente Abrahan, hemos realizado el procedimiento correcto aunque podríamos nuevamente solucionarlo de una manera más eficiente. Podríamos agrupar por cada usuario, observar sus productos ya pedidos y a esto aplicarle un método como **mean()** que nos daran un índice de proporción."
   ]
  },
  {
   "cell_type": "markdown",
   "id": "179b3334",
   "metadata": {},
   "source": [
    "<div class=\"alert alert-block alert-info\">\n",
    "<b>inclusive da una respuesta que es mas correcta , pues con mi código largo obtuve valores que no eran lógicamente correctos ¡Gracias por permitirme encontrar esta nueva forma de solucionarlo!</b> <a class=\"tocSkip\"></a>\n",
    "</div>"
   ]
  },
  {
   "cell_type": "markdown",
   "id": "15a08fe3",
   "metadata": {},
   "source": [
    "<div class=\"alert alert-block alert-success\"><b>Comentario del revisor. (Iteración 2) </b> <a class=\"tocSkip\"></a>\n",
    "    \n",
    "    \n",
    "Me alegro que haya sido de Ayuda! Siempre hay distintas formas de llegar a los resultados, a veces es bueno profundizar en la solución que se nos ocurre de primera mano. Con el tiempo vamos mejorando y se nos van ocurriendo nuvevas formas."
   ]
  },
  {
   "cell_type": "markdown",
   "id": "92d35137",
   "metadata": {
    "id": "92d35137"
   },
   "source": [
    "### [C5] ¿Cuáles son los 20 principales artículos que las personas ponen primero en sus carritos?"
   ]
  },
  {
   "cell_type": "code",
   "execution_count": 93,
   "id": "0ae57274",
   "metadata": {
    "id": "0ae57274",
    "scrolled": true
   },
   "outputs": [],
   "source": [
    "first_in_cart = pd.DataFrame(ord_prod[ord_prod['add_to_cart_order']==1]['product_id'].value_counts().reset_index(name='first_products'))\n",
    "print(first_in_cart.head(20))"
   ]
  },
  {
   "cell_type": "code",
   "execution_count": 96,
   "id": "forty-netherlands",
   "metadata": {
    "id": "forty-netherlands",
    "scrolled": true
   },
   "outputs": [],
   "source": [
    "top_first_in_cart = first_in_cart.merge(product_names,on='product_id', how='outer').sort_values(by='first_products', ascending=True).reset_index().drop(columns=['index'])\n",
    "print(top_first_in_cart.head(20))"
   ]
  },
  {
   "cell_type": "markdown",
   "id": "09649c72",
   "metadata": {
    "id": "08e41ec2"
   },
   "source": [
    "<div class=\"alert alert-block alert-warning\">\n",
    "<b>Comentario del revisor. (Iteración 1)</b> <a class=\"tocSkip\"></a>\n",
    "\n",
    "Aquí nos hemos confundido pero no hay problema. Tal vez nos hemos enredado pero podemos solucionarlo, en primera instanccia es correcto filtrar por **add_to_cart_order == 1** y como nos habla sobre productos simplemente podemos visualizarlo aplicando sobre **product_id** un **values_cocunts()**"
   ]
  },
  {
   "cell_type": "markdown",
   "id": "5a4e532f",
   "metadata": {},
   "source": [
    "<div class=\"alert alert-block alert-success\"><b>Comentario del revisor. (Iteración 2) </b> <a class=\"tocSkip\"></a>\n",
    "    \n",
    "    \n",
    "Excelente Abrahan!"
   ]
  },
  {
   "cell_type": "markdown",
   "id": "28ce9872",
   "metadata": {
    "id": "28ce9872"
   },
   "source": [
    "Escribe aquí tus conclusiones\n",
    "\n",
    "De acuerdo a los datos mostrados, los primeros objetos que seagregan al carrito no tienen relación con los productos mas vendidos y reordenados, esto nos muestra que el trabajo del diseño mercantil auxilia e incrementa las ventas de la tienda. "
   ]
  },
  {
   "cell_type": "markdown",
   "id": "uITbFCEoDosC",
   "metadata": {
    "id": "uITbFCEoDosC"
   },
   "source": [
    "### Conclusion general del proyecto:"
   ]
  },
  {
   "cell_type": "markdown",
   "id": "Nk-4GS7mDwqY",
   "metadata": {
    "id": "Nk-4GS7mDwqY"
   },
   "source": [
    "La limpieza de los datos ayudó enormemente a después poder trabajar los datos para realizar el análisis de las diversas variables de entrada y valores encontrados en los datos que nos permitirían encontrar estadísticas que ayudan a tomar mejores decisiones para un negocio, en este caso, para esta tienda se identificó que gran parte de las ventas son por ordenes menores a 10 productos, y que la tendencia de las ordenes es a contener productos orgánicos. Con estas pequeñas conclusiones se pueden tomar acciones para enfocarse a esas ordenes pequeñas o el incremento del inventario disponible para las ventas de productos orgánicos, para así, no tener pérdidas por cortos de inventario. \n",
    "\n",
    "Este ha sido un proyecto complejo, debido a mi falta de experiencia para abordar problemáticas y resolverlas en código. Ya estoy ansioso de recibir comentarios y poder corregir errores que me identifiquen.  "
   ]
  },
  {
   "cell_type": "markdown",
   "id": "8f44c290",
   "metadata": {},
   "source": [
    "<div class=\"alert alert-block alert-success\"><b>Comentario del revisor. (Iteración 1) </b> <a class=\"tocSkip\"></a>\n",
    "    \n",
    "Ahora si Abrahan! Impresionante, te agradezco tu compromiso al completar con esta conclusión que demuestra tu gran comprensión durante el proceso. Excelente!"
   ]
  }
 ],
 "metadata": {
  "colab": {
   "provenance": []
  },
  "kernelspec": {
   "display_name": "Python 3 (ipykernel)",
   "language": "python",
   "name": "python3"
  },
  "language_info": {
   "codemirror_mode": {
    "name": "ipython",
    "version": 3
   },
   "file_extension": ".py",
   "mimetype": "text/x-python",
   "name": "python",
   "nbconvert_exporter": "python",
   "pygments_lexer": "ipython3",
   "version": "3.12.2"
  },
  "toc": {
   "base_numbering": 1,
   "nav_menu": {},
   "number_sections": true,
   "sideBar": true,
   "skip_h1_title": true,
   "title_cell": "Table of Contents",
   "title_sidebar": "Contents",
   "toc_cell": false,
   "toc_position": {},
   "toc_section_display": true,
   "toc_window_display": false
  },
  "vscode": {
   "interpreter": {
    "hash": "01a7be9ec63e704a62cefc5fe7a4756944464ee731be31632bdf42a4cb4688cf"
   }
  }
 },
 "nbformat": 4,
 "nbformat_minor": 5
}
